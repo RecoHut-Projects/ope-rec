{
  "nbformat": 4,
  "nbformat_minor": 0,
  "metadata": {
    "colab": {
      "name": "L036590 | Online vs Offline Evaluation",
      "provenance": [],
      "authorship_tag": "ABX9TyM2uVXRoAfQfJr9OOHL3PQh"
    },
    "kernelspec": {
      "name": "python3",
      "display_name": "Python 3"
    },
    "language_info": {
      "name": "python"
    }
  },
  "cells": [
    {
      "cell_type": "markdown",
      "metadata": {
        "id": "EYqLms5tla48"
      },
      "source": [
        "# Online vs Offline Evaluation"
      ]
    },
    {
      "cell_type": "markdown",
      "metadata": {
        "id": "VoYVNIb8lder"
      },
      "source": [
        "If we deploy the policy $\\pi_e$ for a while (say, a week) on a real system to get an online estimate of the performance, we can get the log data and estimate the value as average reward as follows:\n",
        "\n",
        "$$\\hat{V}_{A/B} (\\pi_e;\\mathcal{D}_e) := \\dfrac{1}{n}\\sum_{i=1}^nr_i$$\n",
        "\n",
        "In case of off-policy evaluation, the goal is to evaluate policy $\\pi_e$ with data collected from different policy $\\pi_0$. \n",
        "\n",
        "$$V_{OPE} (\\pi_e) \\approx \\hat{V} (\\pi_e;\\mathcal{D}_0)$$\n",
        "\n",
        "where,\n",
        "\n",
        "- $\\hat{V}$ is the off-policy estimator\n",
        "- $\\pi_e$ is the new evaluation policy\n",
        "- $\\mathcal{D}_0$ is the logged data collected with logging policy $\\pi_0$\n",
        "\n",
        "## Flow\n",
        "\n",
        "Policy Learning -> Offline Evaluation -> Online Evaluation\n",
        "\n",
        "<p><center><img src='_images/L036590_1.png'></center></p>\n",
        "\n",
        "## Stages\n",
        "\n",
        "<p><center><img src='_images/L036590_2.png'></center></p>"
      ]
    }
  ]
}